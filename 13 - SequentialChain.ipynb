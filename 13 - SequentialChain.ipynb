{
 "cells": [
  {
   "cell_type": "markdown",
   "id": "ec5b0815",
   "metadata": {},
   "source": [
    "# SequentialChain"
   ]
  },
  {
   "cell_type": "code",
   "execution_count": 1,
   "id": "5a610d4a",
   "metadata": {},
   "outputs": [],
   "source": [
    "import openai\n",
    "import os \n",
    "from langchain.llms import OpenAI\n",
    "from langchain.chat_models import ChatOpenAI\n",
    "from langchain.prompts.chat import ChatPromptTemplate, HumanMessagePromptTemplate, PromptTemplate\n",
    "from langchain.chains import LLMChain,SequentialChain"
   ]
  },
  {
   "cell_type": "code",
   "execution_count": 2,
   "id": "74e60d07",
   "metadata": {},
   "outputs": [],
   "source": [
    "os.environ['OPENAI_API_KEY'] = ''"
   ]
  },
  {
   "cell_type": "code",
   "execution_count": 3,
   "id": "959ee6cd",
   "metadata": {},
   "outputs": [],
   "source": [
    "openai.api_key = os.getenv('OPENAI_API_KEY')"
   ]
  },
  {
   "cell_type": "code",
   "execution_count": 4,
   "id": "d9795515",
   "metadata": {},
   "outputs": [],
   "source": [
    "llm = ChatOpenAI()"
   ]
  },
  {
   "cell_type": "code",
   "execution_count": 5,
   "id": "2487fa36",
   "metadata": {},
   "outputs": [],
   "source": [
    "code_template = \"You are a developer.  Write a program in {language} that does {task}.\"\n",
    "code_prompt_template = PromptTemplate(input_variables=[\"language\", \"task\"], template=code_template)\n",
    "code_chain = LLMChain(llm=llm, prompt=code_prompt_template, output_key=\"code\")\n"
   ]
  },
  {
   "cell_type": "code",
   "execution_count": 6,
   "id": "cb7a6ff0",
   "metadata": {},
   "outputs": [],
   "source": [
    "explain_template = \"Explain this {code}.\"\n",
    "explain_prompt_template = PromptTemplate(input_variables=[\"code\"], template=explain_template)\n",
    "explain_chain = LLMChain(llm=llm, prompt=explain_prompt_template, output_key=\"explanation\")"
   ]
  },
  {
   "cell_type": "code",
   "execution_count": 7,
   "id": "36103097",
   "metadata": {},
   "outputs": [],
   "source": [
    "\n",
    "overall_chain = SequentialChain(\n",
    "    chains=[code_chain, explain_chain],\n",
    "    input_variables=[\"language\", \"task\"],\n",
    "    output_variables=[\"code\", \"explanation\"]\n",
    "    )"
   ]
  },
  {
   "cell_type": "code",
   "execution_count": 8,
   "id": "bdfdc2cb",
   "metadata": {},
   "outputs": [],
   "source": [
    "results = overall_chain({\"language\":\"Python\", \"task\": \"function that adds two numbers\"})"
   ]
  },
  {
   "cell_type": "code",
   "execution_count": 9,
   "id": "8bab16ea",
   "metadata": {},
   "outputs": [
    {
     "name": "stdout",
     "output_type": "stream",
     "text": [
      "{'language': 'Python', 'task': 'function that adds two numbers', 'code': 'Sure! Here\\'s a simple Python program that adds two numbers:\\n\\n```python\\ndef add_numbers(num1, num2):\\n    sum = num1 + num2\\n    return sum\\n\\n# Taking input from the user\\nnumber1 = float(input(\"Enter first number: \"))\\nnumber2 = float(input(\"Enter second number: \"))\\n\\nresult = add_numbers(number1, number2)\\nprint(\"The sum of\", number1, \"and\", number2, \"is:\", result)\\n```\\n\\nIn this program, we define a function `add_numbers` that takes two numbers as parameters and returns their sum. We then take user input for two numbers using the `input` function, convert them to float using `float()`, and store them in `number1` and `number2` variables. Finally, we call the `add_numbers` function with these inputs, store the result in `result`, and print the sum using the `print` function.', 'explanation': \"This program is a simple example of how to add two numbers using Python. \\n\\nFirst, we define a function called `add_numbers` that takes two parameters: `num1` and `num2`. Inside the function, we add `num1` and `num2` together and store the result in a variable called `sum`. \\n\\nNext, we use the `input` function to prompt the user to enter the first number. The `float()` function is used to convert the user's input into a floating-point number, which allows for decimal values. The converted number is then stored in the variable `number1`. \\n\\nWe do the same process to get the second number from the user and store it in the variable `number2`. \\n\\nAfter that, we call the `add_numbers` function and pass `number1` and `number2` as arguments. The result of the function call is stored in a variable called `result`. \\n\\nFinally, we use the `print` function to display the sum of `number1` and `number2` along with some additional text. The values of `number1`, `number2`, and `result` are concatenated with the text using commas.\"}\n"
     ]
    }
   ],
   "source": [
    "print(results)"
   ]
  },
  {
   "cell_type": "code",
   "execution_count": 10,
   "id": "cc9c14b8",
   "metadata": {},
   "outputs": [
    {
     "name": "stdout",
     "output_type": "stream",
     "text": [
      "Python\n"
     ]
    }
   ],
   "source": [
    "print(results['language'])"
   ]
  },
  {
   "cell_type": "code",
   "execution_count": 11,
   "id": "dce816d8",
   "metadata": {},
   "outputs": [
    {
     "name": "stdout",
     "output_type": "stream",
     "text": [
      "function that adds two numbers\n"
     ]
    }
   ],
   "source": [
    "print(results['task'])"
   ]
  },
  {
   "cell_type": "code",
   "execution_count": 12,
   "id": "891fb736",
   "metadata": {},
   "outputs": [
    {
     "name": "stdout",
     "output_type": "stream",
     "text": [
      "Sure! Here's a simple Python program that adds two numbers:\n",
      "\n",
      "```python\n",
      "def add_numbers(num1, num2):\n",
      "    sum = num1 + num2\n",
      "    return sum\n",
      "\n",
      "# Taking input from the user\n",
      "number1 = float(input(\"Enter first number: \"))\n",
      "number2 = float(input(\"Enter second number: \"))\n",
      "\n",
      "result = add_numbers(number1, number2)\n",
      "print(\"The sum of\", number1, \"and\", number2, \"is:\", result)\n",
      "```\n",
      "\n",
      "In this program, we define a function `add_numbers` that takes two numbers as parameters and returns their sum. We then take user input for two numbers using the `input` function, convert them to float using `float()`, and store them in `number1` and `number2` variables. Finally, we call the `add_numbers` function with these inputs, store the result in `result`, and print the sum using the `print` function.\n"
     ]
    }
   ],
   "source": [
    "print(results['code'])"
   ]
  },
  {
   "cell_type": "code",
   "execution_count": 13,
   "id": "dff477ce",
   "metadata": {},
   "outputs": [
    {
     "name": "stdout",
     "output_type": "stream",
     "text": [
      "This program is a simple example of how to add two numbers using Python. \n",
      "\n",
      "First, we define a function called `add_numbers` that takes two parameters: `num1` and `num2`. Inside the function, we add `num1` and `num2` together and store the result in a variable called `sum`. \n",
      "\n",
      "Next, we use the `input` function to prompt the user to enter the first number. The `float()` function is used to convert the user's input into a floating-point number, which allows for decimal values. The converted number is then stored in the variable `number1`. \n",
      "\n",
      "We do the same process to get the second number from the user and store it in the variable `number2`. \n",
      "\n",
      "After that, we call the `add_numbers` function and pass `number1` and `number2` as arguments. The result of the function call is stored in a variable called `result`. \n",
      "\n",
      "Finally, we use the `print` function to display the sum of `number1` and `number2` along with some additional text. The values of `number1`, `number2`, and `result` are concatenated with the text using commas.\n"
     ]
    }
   ],
   "source": [
    "print(results['explanation'])"
   ]
  },
  {
   "cell_type": "code",
   "execution_count": null,
   "id": "b1f13858",
   "metadata": {},
   "outputs": [],
   "source": []
  }
 ],
 "metadata": {
  "kernelspec": {
   "display_name": "Python 3 (ipykernel)",
   "language": "python",
   "name": "python3"
  },
  "language_info": {
   "codemirror_mode": {
    "name": "ipython",
    "version": 3
   },
   "file_extension": ".py",
   "mimetype": "text/x-python",
   "name": "python",
   "nbconvert_exporter": "python",
   "pygments_lexer": "ipython3",
   "version": "3.11.3"
  }
 },
 "nbformat": 4,
 "nbformat_minor": 5
}
