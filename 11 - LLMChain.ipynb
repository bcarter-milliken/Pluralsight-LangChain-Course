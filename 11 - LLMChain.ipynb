{
 "cells": [
  {
   "cell_type": "markdown",
   "id": "d6539b2b",
   "metadata": {},
   "source": [
    "# LLMChain"
   ]
  },
  {
   "cell_type": "code",
   "execution_count": 1,
   "id": "287ebde9",
   "metadata": {},
   "outputs": [],
   "source": [
    "import openai\n",
    "import os \n",
    "from langchain.llms import OpenAI\n",
    "from langchain.chat_models import ChatOpenAI\n",
    "from langchain import PromptTemplate, LLMChain"
   ]
  },
  {
   "cell_type": "code",
   "execution_count": 2,
   "id": "5e4eb26e",
   "metadata": {},
   "outputs": [],
   "source": [
    "os.environ['OPENAI_API_KEY'] = ''"
   ]
  },
  {
   "cell_type": "code",
   "execution_count": 3,
   "id": "e1baf408",
   "metadata": {},
   "outputs": [],
   "source": [
    "openai.api_key = os.getenv('OPENAI_API_KEY')"
   ]
  },
  {
   "cell_type": "code",
   "execution_count": 4,
   "id": "0986d8c9",
   "metadata": {},
   "outputs": [],
   "source": [
    "prompt_topic = \"What are tips for {topic}\""
   ]
  },
  {
   "cell_type": "code",
   "execution_count": 6,
   "id": "b9dcefbf",
   "metadata": {},
   "outputs": [],
   "source": [
    "llm = OpenAI()"
   ]
  },
  {
   "cell_type": "code",
   "execution_count": 7,
   "id": "8793e963",
   "metadata": {},
   "outputs": [
    {
     "data": {
      "text/plain": [
       "{'topic': 'saving money',\n",
       " 'text': '\\n\\n1. Make a budget: The first step in saving money is to create a budget and stick to it. Write down all of your expenses and income and track your spending.\\n\\n2. Cut down on luxuries: Cut down on luxuries such as eating out, shopping, entertainment and travel. Look for ways to save money on these items.\\n\\n3. Create an emergency fund: Create an emergency fund to cover unexpected expenses. Having a cushion of money can help you avoid going into debt.\\n\\n4. Shop around: Compare prices when shopping for items. Look for sales and coupons to save money.\\n\\n5. Use cash: Try to use cash whenever possible as it can help you stay within your budget.\\n\\n6. Automate your savings: Set up a direct deposit into your savings account. This will help you save without having to think about it.\\n\\n7. Live below your means: Try to live below your means, meaning spending less than you make. This will help you save more money.\\n\\n8. Take advantage of tax breaks: Look for ways to take advantage of tax breaks. This could include contributing to a retirement plan or taking deductions on your taxes.\\n\\n9. Invest: Invest your money'}"
      ]
     },
     "execution_count": 7,
     "metadata": {},
     "output_type": "execute_result"
    }
   ],
   "source": [
    "llm_chain = LLMChain(\n",
    "    llm=llm,\n",
    "    prompt=PromptTemplate.from_template(prompt_topic)\n",
    ")\n",
    "llm_chain(\"saving money\")\n"
   ]
  },
  {
   "cell_type": "code",
   "execution_count": 8,
   "id": "9ba4e8fb",
   "metadata": {},
   "outputs": [],
   "source": [
    "from langchain.output_parsers import CommaSeparatedListOutputParser"
   ]
  },
  {
   "cell_type": "code",
   "execution_count": 9,
   "id": "3d311a40",
   "metadata": {},
   "outputs": [],
   "source": [
    "output_parser = CommaSeparatedListOutputParser()"
   ]
  },
  {
   "cell_type": "code",
   "execution_count": 10,
   "id": "b585f693",
   "metadata": {},
   "outputs": [],
   "source": [
    "template = \"What are the planets?  Only use one word for each.\""
   ]
  },
  {
   "cell_type": "code",
   "execution_count": 11,
   "id": "e00649d7",
   "metadata": {},
   "outputs": [],
   "source": [
    "prompt = PromptTemplate(template=template, input_variables=[], output_parser=output_parser)"
   ]
  },
  {
   "cell_type": "code",
   "execution_count": 12,
   "id": "1dc9df7b",
   "metadata": {},
   "outputs": [],
   "source": [
    "llm_chain = LLMChain(prompt=prompt, llm=llm)"
   ]
  },
  {
   "cell_type": "code",
   "execution_count": 13,
   "id": "5795a05b",
   "metadata": {},
   "outputs": [
    {
     "data": {
      "text/plain": [
       "'\\n\\nMercury, Venus, Earth, Mars, Jupiter, Saturn, Uranus, Neptune.'"
      ]
     },
     "execution_count": 13,
     "metadata": {},
     "output_type": "execute_result"
    }
   ],
   "source": [
    "llm_chain.predict()"
   ]
  },
  {
   "cell_type": "code",
   "execution_count": 15,
   "id": "b1185cb4",
   "metadata": {},
   "outputs": [
    {
     "data": {
      "text/plain": [
       "['Mercury',\n",
       " 'Venus',\n",
       " 'Earth',\n",
       " 'Mars',\n",
       " 'Jupiter',\n",
       " 'Saturn',\n",
       " 'Uranus',\n",
       " 'Neptune.']"
      ]
     },
     "execution_count": 15,
     "metadata": {},
     "output_type": "execute_result"
    }
   ],
   "source": [
    "llm_chain.predict_and_parse()"
   ]
  },
  {
   "cell_type": "code",
   "execution_count": null,
   "id": "3998ad30",
   "metadata": {},
   "outputs": [],
   "source": []
  }
 ],
 "metadata": {
  "kernelspec": {
   "display_name": "Python 3 (ipykernel)",
   "language": "python",
   "name": "python3"
  },
  "language_info": {
   "codemirror_mode": {
    "name": "ipython",
    "version": 3
   },
   "file_extension": ".py",
   "mimetype": "text/x-python",
   "name": "python",
   "nbconvert_exporter": "python",
   "pygments_lexer": "ipython3",
   "version": "3.11.3"
  }
 },
 "nbformat": 4,
 "nbformat_minor": 5
}
