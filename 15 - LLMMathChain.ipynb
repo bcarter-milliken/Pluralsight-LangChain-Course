{
 "cells": [
  {
   "cell_type": "markdown",
   "id": "4000799e",
   "metadata": {},
   "source": [
    "# LLMMathChain"
   ]
  },
  {
   "cell_type": "code",
   "execution_count": 1,
   "id": "8459af88",
   "metadata": {},
   "outputs": [],
   "source": [
    "import openai\n",
    "import os \n",
    "from langchain.llms import OpenAI\n",
    "from langchain.chat_models import ChatOpenAI\n",
    "from langchain.prompts.chat import ChatPromptTemplate, HumanMessagePromptTemplate\n",
    "from langchain.schema import HumanMessage\n",
    "from langchain  import LLMMathChain"
   ]
  },
  {
   "cell_type": "code",
   "execution_count": 2,
   "id": "77b5b1e2",
   "metadata": {},
   "outputs": [],
   "source": [
    "os.environ['OPENAI_API_KEY'] = ''"
   ]
  },
  {
   "cell_type": "code",
   "execution_count": 3,
   "id": "a48100f5",
   "metadata": {},
   "outputs": [],
   "source": [
    "openai.api_key = os.getenv('OPENAI_API_KEY')"
   ]
  },
  {
   "cell_type": "code",
   "execution_count": 4,
   "id": "d161c159",
   "metadata": {},
   "outputs": [],
   "source": [
    "llm = ChatOpenAI()"
   ]
  },
  {
   "cell_type": "code",
   "execution_count": 5,
   "id": "a2507a6f",
   "metadata": {},
   "outputs": [],
   "source": [
    "result = llm([HumanMessage(content='What is 20 + 15 - 10')])"
   ]
  },
  {
   "cell_type": "code",
   "execution_count": 6,
   "id": "a2fc7864",
   "metadata": {},
   "outputs": [
    {
     "data": {
      "text/plain": [
       "'The expression 20 + 15 - 10 equals 25.'"
      ]
     },
     "execution_count": 6,
     "metadata": {},
     "output_type": "execute_result"
    }
   ],
   "source": [
    "result.content"
   ]
  },
  {
   "cell_type": "code",
   "execution_count": 7,
   "id": "d7a42270",
   "metadata": {},
   "outputs": [],
   "source": [
    "result = llm([HumanMessage(content='What is 200345 * 181')])"
   ]
  },
  {
   "cell_type": "code",
   "execution_count": 8,
   "id": "d8dc7310",
   "metadata": {},
   "outputs": [
    {
     "data": {
      "text/plain": [
       "'The product of 200345 multiplied by 181 is 36,278,045.'"
      ]
     },
     "execution_count": 8,
     "metadata": {},
     "output_type": "execute_result"
    }
   ],
   "source": [
    "result.content"
   ]
  },
  {
   "cell_type": "code",
   "execution_count": 9,
   "id": "f6eec420",
   "metadata": {},
   "outputs": [
    {
     "data": {
      "text/plain": [
       "{'question': 'What is 200345 * 181', 'answer': 'Answer: 36262445'}"
      ]
     },
     "execution_count": 9,
     "metadata": {},
     "output_type": "execute_result"
    }
   ],
   "source": [
    "llm_math = LLMMathChain.from_llm(llm)\n",
    "llm_math(\"What is 200345 * 181\")"
   ]
  },
  {
   "cell_type": "code",
   "execution_count": null,
   "id": "42e2bc57",
   "metadata": {},
   "outputs": [],
   "source": []
  }
 ],
 "metadata": {
  "kernelspec": {
   "display_name": "Python 3 (ipykernel)",
   "language": "python",
   "name": "python3"
  },
  "language_info": {
   "codemirror_mode": {
    "name": "ipython",
    "version": 3
   },
   "file_extension": ".py",
   "mimetype": "text/x-python",
   "name": "python",
   "nbconvert_exporter": "python",
   "pygments_lexer": "ipython3",
   "version": "3.11.3"
  }
 },
 "nbformat": 4,
 "nbformat_minor": 5
}
