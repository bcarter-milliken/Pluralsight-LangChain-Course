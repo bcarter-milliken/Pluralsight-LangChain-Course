{
 "cells": [
  {
   "cell_type": "markdown",
   "id": "6b91b408",
   "metadata": {},
   "source": [
    "# Custom Tools and Conversation Agents"
   ]
  },
  {
   "cell_type": "code",
   "execution_count": null,
   "id": "23168c2a",
   "metadata": {},
   "outputs": [],
   "source": [
    "# !pip install google-search-results"
   ]
  },
  {
   "cell_type": "code",
   "execution_count": 1,
   "id": "ed01d4cc",
   "metadata": {},
   "outputs": [],
   "source": [
    "import openai\n",
    "import os \n",
    "from langchain.llms import OpenAI\n",
    "from langchain.chat_models import ChatOpenAI\n",
    "from langchain.chains import TransformChain, LLMChain, SimpleSequentialChain\n",
    "from langchain.agents import initialize_agent\n",
    "from langchain.agents import AgentType\n",
    "from langchain.agents import load_tools"
   ]
  },
  {
   "cell_type": "code",
   "execution_count": 2,
   "id": "f6950baf",
   "metadata": {},
   "outputs": [],
   "source": [
    "os.environ['OPENAI_API_KEY'] = ''"
   ]
  },
  {
   "cell_type": "code",
   "execution_count": 3,
   "id": "8058a1ac",
   "metadata": {},
   "outputs": [],
   "source": [
    "openai.api_key = os.getenv('OPENAI_API_KEY')"
   ]
  },
  {
   "cell_type": "code",
   "execution_count": 4,
   "id": "bde7de93",
   "metadata": {},
   "outputs": [],
   "source": [
    "os.environ['SERPAPI_API_KEY'] = ''"
   ]
  },
  {
   "cell_type": "code",
   "execution_count": 5,
   "id": "00df9579",
   "metadata": {},
   "outputs": [],
   "source": [
    "llm = ChatOpenAI(temperature=0)"
   ]
  },
  {
   "cell_type": "code",
   "execution_count": 6,
   "id": "918c0cdc",
   "metadata": {},
   "outputs": [],
   "source": [
    "tools = load_tools([\n",
    "'serpapi','llm-math'], llm=llm\n",
    ")"
   ]
  },
  {
   "cell_type": "code",
   "execution_count": 7,
   "id": "a74bb038",
   "metadata": {},
   "outputs": [],
   "source": [
    "agent = initialize_agent(tools, llm, AgentType.ZERO_SHOT_REACT_DESCRIPTION, verbose=True)"
   ]
  },
  {
   "cell_type": "code",
   "execution_count": 8,
   "id": "2b8e516c",
   "metadata": {},
   "outputs": [
    {
     "name": "stdout",
     "output_type": "stream",
     "text": [
      "\n",
      "\n",
      "\u001b[1m> Entering new AgentExecutor chain...\u001b[0m\n",
      "\u001b[32;1m\u001b[1;3mI cannot access your thoughts, so I will need to find a different way to answer this question.\n",
      "Action: Search\n",
      "Action Input: \"mind reading technology\"\u001b[0m\n",
      "Observation: \u001b[36;1m\u001b[1;3mWith the help of AI, scientists from the University of Texas at Austin have developed a technique that can translate people's brain activity — ...\u001b[0m\n",
      "Thought:\u001b[32;1m\u001b[1;3mThis search result suggests that there is currently no technology available to read someone's thoughts directly. I will need to find another way to answer the question.\n",
      "Action: Search\n",
      "Action Input: \"how to determine what someone is thinking\"\u001b[0m\n",
      "Observation: \u001b[36;1m\u001b[1;3m1. They Look Up To Their Right ; 2. They Cross Their Arms ; 3. They Turn Away Slightly ; 4. They Make Sniffing Noises ; 5. They Pause Before ...\u001b[0m\n",
      "Thought:\u001b[32;1m\u001b[1;3mThis search result suggests that there are some non-verbal cues that can indicate what someone is thinking, such as eye movements, body language, and facial expressions. However, these cues are not always reliable and can vary from person to person. I still cannot determine what you are thinking right now.\n",
      "Action: Search\n",
      "Action Input: \"how to determine what someone is thinking without non-verbal cues\"\u001b[0m\n",
      "Observation: \u001b[36;1m\u001b[1;3m... without thinking. However, the meaning of ... Unfortunately, many people send confusing or negative nonverbal signals without even knowing it.\u001b[0m\n",
      "Thought:\u001b[32;1m\u001b[1;3mThis search result suggests that it is difficult to determine what someone is thinking without non-verbal cues. It seems that there is no foolproof method to answer this question. \n",
      "Thought: I cannot determine what you are thinking right now.\n",
      "Final Answer: I cannot determine what you are thinking right now.\u001b[0m\n",
      "\n",
      "\u001b[1m> Finished chain.\u001b[0m\n"
     ]
    },
    {
     "data": {
      "text/plain": [
       "'I cannot determine what you are thinking right now.'"
      ]
     },
     "execution_count": 8,
     "metadata": {},
     "output_type": "execute_result"
    }
   ],
   "source": [
    "agent.run(\"What am I thinking right now?\")"
   ]
  },
  {
   "cell_type": "code",
   "execution_count": 9,
   "id": "28208479",
   "metadata": {},
   "outputs": [],
   "source": [
    "from langchain.agents import tool"
   ]
  },
  {
   "cell_type": "code",
   "execution_count": 10,
   "id": "42701c76",
   "metadata": {},
   "outputs": [],
   "source": [
    "@tool\n",
    "def read_my_mind(text: str) -> str:\n",
    "    '''\n",
    "    This is a function that shows what I am thinking right now.  It takes in an input of an empty string '' and returns what is on the person's mind.\n",
    "\n",
    "    '''\n",
    "    return 'LangChain'"
   ]
  },
  {
   "cell_type": "code",
   "execution_count": 11,
   "id": "9ed87a9c",
   "metadata": {},
   "outputs": [],
   "source": [
    "tools = load_tools([\n",
    "'serpapi','llm-math'], llm=llm\n",
    ")"
   ]
  },
  {
   "cell_type": "code",
   "execution_count": 12,
   "id": "e8bc75c7",
   "metadata": {},
   "outputs": [],
   "source": [
    "tools = tools + [read_my_mind]"
   ]
  },
  {
   "cell_type": "code",
   "execution_count": 13,
   "id": "807dceb7",
   "metadata": {},
   "outputs": [],
   "source": [
    "agent = initialize_agent(tools, llm, AgentType.ZERO_SHOT_REACT_DESCRIPTION, verbose=True)"
   ]
  },
  {
   "cell_type": "code",
   "execution_count": 14,
   "id": "76f82a9a",
   "metadata": {},
   "outputs": [
    {
     "name": "stdout",
     "output_type": "stream",
     "text": [
      "\n",
      "\n",
      "\u001b[1m> Entering new AgentExecutor chain...\u001b[0m\n",
      "\u001b[32;1m\u001b[1;3mI should use the read_my_mind function to find out what the person is thinking.\n",
      "Action: read_my_mind\n",
      "Action Input: ''\u001b[0m\n",
      "Observation: \u001b[38;5;200m\u001b[1;3mLangChain\u001b[0m\n",
      "Thought:\u001b[32;1m\u001b[1;3mI now know what the person is thinking.\n",
      "Final Answer: The person is thinking about \"LangChain\".\u001b[0m\n",
      "\n",
      "\u001b[1m> Finished chain.\u001b[0m\n"
     ]
    },
    {
     "data": {
      "text/plain": [
       "'The person is thinking about \"LangChain\".'"
      ]
     },
     "execution_count": 14,
     "metadata": {},
     "output_type": "execute_result"
    }
   ],
   "source": [
    "agent.run(\"What am I thinking right now?\")"
   ]
  },
  {
   "cell_type": "code",
   "execution_count": 15,
   "id": "73787bd5",
   "metadata": {},
   "outputs": [],
   "source": [
    "from langchain.memory import ConversationBufferMemory"
   ]
  },
  {
   "cell_type": "code",
   "execution_count": 16,
   "id": "8b09c143",
   "metadata": {},
   "outputs": [],
   "source": [
    "memory = ConversationBufferMemory(memory_key='chat_history')"
   ]
  },
  {
   "cell_type": "code",
   "execution_count": 18,
   "id": "03ae7079",
   "metadata": {},
   "outputs": [],
   "source": [
    "llm = ChatOpenAI(temperature=0)"
   ]
  },
  {
   "cell_type": "code",
   "execution_count": 19,
   "id": "ba28bd1b",
   "metadata": {},
   "outputs": [],
   "source": [
    "tools = load_tools([\n",
    "'serpapi'], llm=llm\n",
    ")"
   ]
  },
  {
   "cell_type": "code",
   "execution_count": 20,
   "id": "9f83e28a",
   "metadata": {},
   "outputs": [],
   "source": [
    "agent = initialize_agent(\n",
    "tools,\n",
    "llm,\n",
    "agent=AgentType.CONVERSATIONAL_REACT_DESCRIPTION,\n",
    "memory=memory,\n",
    "verbose=True)\n"
   ]
  },
  {
   "cell_type": "code",
   "execution_count": 21,
   "id": "0d21528c",
   "metadata": {},
   "outputs": [
    {
     "name": "stdout",
     "output_type": "stream",
     "text": [
      "\n",
      "\n",
      "\u001b[1m> Entering new AgentExecutor chain...\u001b[0m\n",
      "\u001b[32;1m\u001b[1;3mThought: Do I need to use a tool? No\n",
      "AI: The sum of 5 plus 5 is 10.\u001b[0m\n",
      "\n",
      "\u001b[1m> Finished chain.\u001b[0m\n"
     ]
    },
    {
     "data": {
      "text/plain": [
       "'The sum of 5 plus 5 is 10.'"
      ]
     },
     "execution_count": 21,
     "metadata": {},
     "output_type": "execute_result"
    }
   ],
   "source": [
    "agent.run(input='What is 5 plus 5?')"
   ]
  },
  {
   "cell_type": "code",
   "execution_count": 22,
   "id": "e0db342c",
   "metadata": {},
   "outputs": [
    {
     "name": "stdout",
     "output_type": "stream",
     "text": [
      "\n",
      "\n",
      "\u001b[1m> Entering new AgentExecutor chain...\u001b[0m\n",
      "\u001b[32;1m\u001b[1;3mThought: Do I need to use a tool? No\n",
      "AI: To take the result of 10 and multiply it by 10, you would simply multiply 10 by 10, which equals 100. So, the result of multiplying the sum of 5 plus 5 by 10 is 100.\u001b[0m\n",
      "\n",
      "\u001b[1m> Finished chain.\u001b[0m\n"
     ]
    },
    {
     "data": {
      "text/plain": [
       "'To take the result of 10 and multiply it by 10, you would simply multiply 10 by 10, which equals 100. So, the result of multiplying the sum of 5 plus 5 by 10 is 100.'"
      ]
     },
     "execution_count": 22,
     "metadata": {},
     "output_type": "execute_result"
    }
   ],
   "source": [
    "agent.run(input='Take the result and multiply it by 10.')"
   ]
  },
  {
   "cell_type": "code",
   "execution_count": null,
   "id": "d71fdc63",
   "metadata": {},
   "outputs": [],
   "source": []
  }
 ],
 "metadata": {
  "kernelspec": {
   "display_name": "Python 3 (ipykernel)",
   "language": "python",
   "name": "python3"
  },
  "language_info": {
   "codemirror_mode": {
    "name": "ipython",
    "version": 3
   },
   "file_extension": ".py",
   "mimetype": "text/x-python",
   "name": "python",
   "nbconvert_exporter": "python",
   "pygments_lexer": "ipython3",
   "version": "3.11.3"
  }
 },
 "nbformat": 4,
 "nbformat_minor": 5
}
