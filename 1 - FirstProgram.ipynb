{
 "cells": [
  {
   "cell_type": "markdown",
   "id": "b502105e",
   "metadata": {},
   "source": [
    "# First LangChain Program"
   ]
  },
  {
   "cell_type": "code",
   "execution_count": null,
   "id": "4b2228e2",
   "metadata": {},
   "outputs": [],
   "source": [
    "# !pip install openai"
   ]
  },
  {
   "cell_type": "code",
   "execution_count": 81,
   "id": "5bf38016",
   "metadata": {},
   "outputs": [],
   "source": [
    "import os\n",
    "from openai import AzureOpenAI"
   ]
  },
  {
   "cell_type": "code",
   "execution_count": 82,
   "id": "3bf476d7",
   "metadata": {},
   "outputs": [],
   "source": [
    "import custom_functions as cf\n",
    "\n",
    "# Set API Key in environment\n",
    "# Then delete from string\n",
    "# Using BCarter-OpenAI > Get medel from Studio Deployment\n",
    "os.environ['AZURE_OPENAI_API_KEY'] = cf.azure_openai_api_key()\n",
    "os.environ['AZURE_OPENAI_ENDPOINT'] = cf.azure_openai_endpoint()"
   ]
  },
  {
   "cell_type": "code",
   "execution_count": 83,
   "id": "9d9f9bea",
   "metadata": {},
   "outputs": [],
   "source": [
    "client = AzureOpenAI(\n",
    "    api_key=os.environ.get(\"AZURE_OPENAI_API_KEY\"),\n",
    "    api_version=\"2024-02-01\",\n",
    "    azure_endpoint = os.getenv(\"AZURE_OPENAI_ENDPOINT\"),\n",
    ")"
   ]
  },
  {
   "cell_type": "code",
   "execution_count": 77,
   "id": "d966d047",
   "metadata": {},
   "outputs": [],
   "source": [
    "reply = client.chat.completions.create(\n",
    "    model = \"GPT-35-turbo\",\n",
    "    max_tokens = 100,\n",
    "    messages=[\n",
    "        {'role': 'system',\n",
    "         'content': 'Assistant is a large language model trained by OpenAI'},\n",
    "         {'role': 'user',\n",
    "          'content': 'What is a large language model?'}\n",
    "    ]\n",
    ")"
   ]
  },
  {
   "cell_type": "code",
   "execution_count": 78,
   "id": "240945e3",
   "metadata": {},
   "outputs": [
    {
     "data": {
      "text/plain": [
       "ChatCompletion(id='chatcmpl-9RLbLDXz1i8r1SZW9qMTGKGWJvJxN', choices=[Choice(finish_reason='length', index=0, logprobs=None, message=ChatCompletionMessage(content='A large language model is a type of artificial intelligence (AI) model designed to generate coherent and contextually relevant human-like text. It is built using deep learning techniques, particularly deep neural networks with a massive number of parameters. These models are trained on a large corpus of text from various sources, such as books, articles, and websites. They learn patterns and relationships in the data to generate responses or complete sentences that resemble human language.\\n\\nThe size of a language model refers to the number of parameters it', role='assistant', function_call=None, tool_calls=None), content_filter_results={'hate': {'filtered': False, 'severity': 'safe'}, 'self_harm': {'filtered': False, 'severity': 'safe'}, 'sexual': {'filtered': False, 'severity': 'safe'}, 'violence': {'filtered': False, 'severity': 'safe'}})], created=1716304919, model='gpt-35-turbo-16k', object='chat.completion', system_fingerprint=None, usage=CompletionUsage(completion_tokens=100, prompt_tokens=28, total_tokens=128), prompt_filter_results=[{'prompt_index': 0, 'content_filter_results': {'hate': {'filtered': False, 'severity': 'safe'}, 'self_harm': {'filtered': False, 'severity': 'safe'}, 'sexual': {'filtered': False, 'severity': 'safe'}, 'violence': {'filtered': False, 'severity': 'safe'}}}])"
      ]
     },
     "execution_count": 78,
     "metadata": {},
     "output_type": "execute_result"
    }
   ],
   "source": [
    "reply"
   ]
  },
  {
   "cell_type": "code",
   "execution_count": 79,
   "id": "7f7b9d01",
   "metadata": {},
   "outputs": [
    {
     "name": "stdout",
     "output_type": "stream",
     "text": [
      "A large language model is a type of artificial intelligence (AI) model designed to generate coherent and contextually relevant human-like text. It is built using deep learning techniques, particularly deep neural networks with a massive number of parameters. These models are trained on a large corpus of text from various sources, such as books, articles, and websites. They learn patterns and relationships in the data to generate responses or complete sentences that resemble human language.\n",
      "\n",
      "The size of a language model refers to the number of parameters it\n"
     ]
    }
   ],
   "source": [
    "#print(reply.model_dump_json(indent=2))\n",
    "print(reply.choices[0].message.content)"
   ]
  },
  {
   "cell_type": "code",
   "execution_count": null,
   "id": "d524ae06",
   "metadata": {},
   "outputs": [],
   "source": []
  },
  {
   "cell_type": "code",
   "execution_count": null,
   "id": "8b9163f2",
   "metadata": {},
   "outputs": [],
   "source": [
    "# !pip install langchain"
   ]
  },
  {
   "cell_type": "code",
   "execution_count": 64,
   "id": "de342a46",
   "metadata": {},
   "outputs": [],
   "source": [
    "#from langchain_openai import AzureOpenAI\n",
    "from langchain.chat_models import AzureChatOpenAI\n",
    "from langchain_core.messages import AIMessage, SystemMessage, HumanMessage"
   ]
  },
  {
   "cell_type": "code",
   "execution_count": 67,
   "id": "f0ad4c77",
   "metadata": {},
   "outputs": [],
   "source": [
    "llm = AzureChatOpenAI(\n",
    "    api_key = os.environ.get(\"AZURE_OPENAI_API_KEY\"),\n",
    "    api_version = \"2024-02-01\",\n",
    "    azure_endpoint = os.getenv(\"AZURE_OPENAI_ENDPOINT\"),\n",
    "    model_name = \"GPT-35-turbo\",\n",
    "    max_tokens = 100\n",
    "    )"
   ]
  },
  {
   "cell_type": "code",
   "execution_count": 68,
   "id": "494f70fd",
   "metadata": {},
   "outputs": [],
   "source": [
    "reply = llm.invoke([\n",
    "SystemMessage(content='You are a helpful assistant.'),\n",
    "HumanMessage(content='what is a large language model')])"
   ]
  },
  {
   "cell_type": "code",
   "execution_count": 69,
   "id": "e6e6092d",
   "metadata": {},
   "outputs": [
    {
     "data": {
      "text/plain": [
       "AIMessage(content='A large language model is a type of artificial intelligence (AI) model that is capable of understanding and generating human-like text. It is trained on vast amounts of text data and learns patterns and relationships between words and phrases to generate coherent and contextually relevant responses.\\n\\nLarge language models, such as OpenAI’s GPT-3 (Generative Pre-trained Transformer 3), contain billions of parameters, enabling them to generate highly sophisticated and nuanced text. They can be used for a variety of tasks, such', response_metadata={'token_usage': {'completion_tokens': 100, 'prompt_tokens': 23, 'total_tokens': 123}, 'model_name': 'gpt-35-turbo-16k', 'system_fingerprint': None, 'finish_reason': 'length', 'logprobs': None}, id='run-815fa8d7-1eac-4291-a32d-fafafdd27077-0')"
      ]
     },
     "execution_count": 69,
     "metadata": {},
     "output_type": "execute_result"
    }
   ],
   "source": [
    "reply"
   ]
  },
  {
   "cell_type": "code",
   "execution_count": 70,
   "id": "75863e83",
   "metadata": {},
   "outputs": [
    {
     "name": "stdout",
     "output_type": "stream",
     "text": [
      "A large language model is a type of artificial intelligence (AI) model that is capable of understanding and generating human-like text. It is trained on vast amounts of text data and learns patterns and relationships between words and phrases to generate coherent and contextually relevant responses.\n",
      "\n",
      "Large language models, such as OpenAI’s GPT-3 (Generative Pre-trained Transformer 3), contain billions of parameters, enabling them to generate highly sophisticated and nuanced text. They can be used for a variety of tasks, such\n"
     ]
    }
   ],
   "source": [
    "print(reply.content)"
   ]
  },
  {
   "cell_type": "code",
   "execution_count": 71,
   "id": "f2e94798",
   "metadata": {},
   "outputs": [],
   "source": [
    "reply = llm.generate([\n",
    "[SystemMessage(content='You are a helpful assistant.'),\n",
    "HumanMessage(content='what is a large language model')],\n",
    "[SystemMessage(content='You are an AI expert.'),\n",
    "HumanMessage(content='what is generative ai?')]\n",
    "])"
   ]
  },
  {
   "cell_type": "code",
   "execution_count": 72,
   "id": "300817ff",
   "metadata": {},
   "outputs": [
    {
     "data": {
      "text/plain": [
       "[[ChatGeneration(text=\"A large language model is a type of artificial intelligence (AI) model that is trained on a vast amount of text data to generate human-like text. These models are designed to understand and generate coherent and contextually relevant responses. They are typically trained using deep learning techniques, such as transformer architectures, and have millions or even billions of parameters. Examples of large language models include OpenAI's GPT-3 (Generative Pre-trained Transformer 3) and Google's T5 (Text-to-Text\", generation_info={'finish_reason': 'length', 'logprobs': None}, message=AIMessage(content=\"A large language model is a type of artificial intelligence (AI) model that is trained on a vast amount of text data to generate human-like text. These models are designed to understand and generate coherent and contextually relevant responses. They are typically trained using deep learning techniques, such as transformer architectures, and have millions or even billions of parameters. Examples of large language models include OpenAI's GPT-3 (Generative Pre-trained Transformer 3) and Google's T5 (Text-to-Text\", response_metadata={'token_usage': {'completion_tokens': 100, 'prompt_tokens': 23, 'total_tokens': 123}, 'model_name': 'gpt-35-turbo-16k', 'system_fingerprint': None, 'finish_reason': 'length', 'logprobs': None}, id='run-8c359a79-9ae2-4336-80bc-ccd2b024d992-0'))],\n",
       " [ChatGeneration(text='Generative AI refers to a subset of artificial intelligence (AI) techniques and models that are designed to generate new content or data that is similar to existing examples. It involves training a model on a dataset and then using that model to create new, original content that resembles the training data. This can include generating images, text, music, video, and other types of content. Generative AI models often use deep learning techniques, such as generative adversarial networks (GANs) or variational auto', generation_info={'finish_reason': 'length', 'logprobs': None}, message=AIMessage(content='Generative AI refers to a subset of artificial intelligence (AI) techniques and models that are designed to generate new content or data that is similar to existing examples. It involves training a model on a dataset and then using that model to create new, original content that resembles the training data. This can include generating images, text, music, video, and other types of content. Generative AI models often use deep learning techniques, such as generative adversarial networks (GANs) or variational auto', response_metadata={'token_usage': {'completion_tokens': 100, 'prompt_tokens': 23, 'total_tokens': 123}, 'model_name': 'gpt-35-turbo-16k', 'system_fingerprint': None, 'finish_reason': 'length', 'logprobs': None}, id='run-94c7695c-2fcd-4934-bccb-3d9d80607d73-0'))]]"
      ]
     },
     "execution_count": 72,
     "metadata": {},
     "output_type": "execute_result"
    }
   ],
   "source": [
    "reply.generations"
   ]
  },
  {
   "cell_type": "code",
   "execution_count": 73,
   "id": "ed8394d8",
   "metadata": {},
   "outputs": [
    {
     "data": {
      "text/plain": [
       "[ChatGeneration(text='Generative AI refers to a subset of artificial intelligence (AI) techniques and models that are designed to generate new content or data that is similar to existing examples. It involves training a model on a dataset and then using that model to create new, original content that resembles the training data. This can include generating images, text, music, video, and other types of content. Generative AI models often use deep learning techniques, such as generative adversarial networks (GANs) or variational auto', generation_info={'finish_reason': 'length', 'logprobs': None}, message=AIMessage(content='Generative AI refers to a subset of artificial intelligence (AI) techniques and models that are designed to generate new content or data that is similar to existing examples. It involves training a model on a dataset and then using that model to create new, original content that resembles the training data. This can include generating images, text, music, video, and other types of content. Generative AI models often use deep learning techniques, such as generative adversarial networks (GANs) or variational auto', response_metadata={'token_usage': {'completion_tokens': 100, 'prompt_tokens': 23, 'total_tokens': 123}, 'model_name': 'gpt-35-turbo-16k', 'system_fingerprint': None, 'finish_reason': 'length', 'logprobs': None}, id='run-94c7695c-2fcd-4934-bccb-3d9d80607d73-0'))]"
      ]
     },
     "execution_count": 73,
     "metadata": {},
     "output_type": "execute_result"
    }
   ],
   "source": [
    "reply.generations[1]"
   ]
  },
  {
   "cell_type": "code",
   "execution_count": 74,
   "id": "ceae5856",
   "metadata": {},
   "outputs": [
    {
     "data": {
      "text/plain": [
       "'Generative AI refers to a subset of artificial intelligence (AI) techniques and models that are designed to generate new content or data that is similar to existing examples. It involves training a model on a dataset and then using that model to create new, original content that resembles the training data. This can include generating images, text, music, video, and other types of content. Generative AI models often use deep learning techniques, such as generative adversarial networks (GANs) or variational auto'"
      ]
     },
     "execution_count": 74,
     "metadata": {},
     "output_type": "execute_result"
    }
   ],
   "source": [
    "reply.generations[1][0].text"
   ]
  },
  {
   "cell_type": "code",
   "execution_count": 75,
   "id": "64f2fdb3",
   "metadata": {},
   "outputs": [],
   "source": [
    "# Show that these prompt/answer pairs are not connected\n",
    "# The LLM doesn't know it already provided a definition\n",
    "# That is, the LLM has no memory > we'll give it memory later\n",
    "\n",
    "reply = llm.generate([\n",
    "[SystemMessage(content='You are a helpful assistant.'),\n",
    "HumanMessage(content='what is generative ai')],\n",
    "[SystemMessage(content='You are a helpful assistant.'),\n",
    "HumanMessage(content='improve this definition')]\n",
    "])"
   ]
  },
  {
   "cell_type": "code",
   "execution_count": 76,
   "id": "fe840760",
   "metadata": {},
   "outputs": [
    {
     "data": {
      "text/plain": [
       "[[ChatGeneration(text='Generative AI refers to a type of artificial intelligence that is capable of generating new and original content, such as images, music, text, or even video, without direct human input or explicit instructions. It uses machine learning models, such as generative adversarial networks (GANs) or variational autoencoders (VAEs), to learn patterns and create new content that is similar to the training data it was exposed to. Generative AI has applications in various fields, including art, design,', generation_info={'finish_reason': 'length', 'logprobs': None}, message=AIMessage(content='Generative AI refers to a type of artificial intelligence that is capable of generating new and original content, such as images, music, text, or even video, without direct human input or explicit instructions. It uses machine learning models, such as generative adversarial networks (GANs) or variational autoencoders (VAEs), to learn patterns and create new content that is similar to the training data it was exposed to. Generative AI has applications in various fields, including art, design,', response_metadata={'token_usage': {'completion_tokens': 100, 'prompt_tokens': 22, 'total_tokens': 122}, 'model_name': 'gpt-35-turbo-16k', 'system_fingerprint': None, 'finish_reason': 'length', 'logprobs': None}, id='run-b05d1758-3dc5-480b-bbf0-69d12aebb010-0'))],\n",
       " [ChatGeneration(text='Sure, please provide me with the definition that you would like me to improve.', generation_info={'finish_reason': 'stop', 'logprobs': None}, message=AIMessage(content='Sure, please provide me with the definition that you would like me to improve.', response_metadata={'token_usage': {'completion_tokens': 16, 'prompt_tokens': 21, 'total_tokens': 37}, 'model_name': 'gpt-35-turbo-16k', 'system_fingerprint': None, 'finish_reason': 'stop', 'logprobs': None}, id='run-4f7e9a7a-1ad3-4332-b298-811aebf7bffe-0'))]]"
      ]
     },
     "execution_count": 76,
     "metadata": {},
     "output_type": "execute_result"
    }
   ],
   "source": [
    "reply.generations"
   ]
  },
  {
   "cell_type": "code",
   "execution_count": null,
   "id": "d4cbbf00",
   "metadata": {},
   "outputs": [],
   "source": []
  }
 ],
 "metadata": {
  "kernelspec": {
   "display_name": "Python 3 (ipykernel)",
   "language": "python",
   "name": "python3"
  },
  "language_info": {
   "codemirror_mode": {
    "name": "ipython",
    "version": 3
   },
   "file_extension": ".py",
   "mimetype": "text/x-python",
   "name": "python",
   "nbconvert_exporter": "python",
   "pygments_lexer": "ipython3",
   "version": "3.10.11"
  }
 },
 "nbformat": 4,
 "nbformat_minor": 5
}
