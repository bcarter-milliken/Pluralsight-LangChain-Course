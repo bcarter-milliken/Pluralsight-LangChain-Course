{
 "cells": [
  {
   "cell_type": "markdown",
   "id": "959ffae8",
   "metadata": {},
   "source": [
    "# PDF Analyzer"
   ]
  },
  {
   "cell_type": "code",
   "execution_count": null,
   "id": "b685aac0",
   "metadata": {},
   "outputs": [],
   "source": [
    "# pip install pinecone-client"
   ]
  },
  {
   "cell_type": "code",
   "execution_count": 2,
   "id": "a8a95ca0",
   "metadata": {},
   "outputs": [],
   "source": [
    "import openai\n",
    "import os \n",
    "from langchain.llms import OpenAI\n",
    "import pinecone\n",
    "from langchain.embeddings.openai import OpenAIEmbeddings\n",
    "from langchain.text_splitter import RecursiveCharacterTextSplitter\n",
    "from langchain.vectorstores import Pinecone\n",
    "from langchain.chains.question_answering import load_qa_chain\n",
    "from langchain.document_loaders import PyPDFLoader"
   ]
  },
  {
   "cell_type": "code",
   "execution_count": 3,
   "id": "996ae3df",
   "metadata": {},
   "outputs": [],
   "source": [
    "os.environ['OPENAI_API_KEY'] = ''"
   ]
  },
  {
   "cell_type": "code",
   "execution_count": 4,
   "id": "61de4d63",
   "metadata": {},
   "outputs": [],
   "source": [
    "openai.api_key = os.getenv('OPENAI_API_KEY')"
   ]
  },
  {
   "cell_type": "code",
   "execution_count": 5,
   "id": "9f5ad261",
   "metadata": {},
   "outputs": [],
   "source": [
    "llm = OpenAI(temperature=0)"
   ]
  },
  {
   "cell_type": "code",
   "execution_count": 6,
   "id": "a35095c4",
   "metadata": {},
   "outputs": [],
   "source": [
    "PINECONE_API_KEY = \"\"\n",
    "PINECONE_ENV = 'us-west4-gcp-free'"
   ]
  },
  {
   "cell_type": "code",
   "execution_count": 7,
   "id": "e533ba15",
   "metadata": {},
   "outputs": [],
   "source": [
    "embed_model = 'text-embedding-ada-002'"
   ]
  },
  {
   "cell_type": "code",
   "execution_count": null,
   "id": "633f61d8",
   "metadata": {},
   "outputs": [],
   "source": [
    "loader = PyPDFLoader(\"gen_ai.pdf\")\n",
    "data = loader.load()\n",
    "pages = len(data)\n",
    "pdf_content = ''\n",
    "\n",
    "for x in range(pages):\n",
    "    pdf_content = pdf_content + data[x].page_content\n",
    "\n",
    "print(pdf_content)    \n"
   ]
  },
  {
   "cell_type": "code",
   "execution_count": null,
   "id": "76e338d9",
   "metadata": {},
   "outputs": [],
   "source": [
    "text_splitter = RecursiveCharacterTextSplitter(\n",
    "    chunk_size = 2000,\n",
    "    chunk_overlap = 0,\n",
    "    length_function = len\n",
    ")\n"
   ]
  },
  {
   "cell_type": "code",
   "execution_count": null,
   "id": "e10d9b46",
   "metadata": {},
   "outputs": [],
   "source": [
    "split_pdf_content = text_splitter.create_documents([pdf_content])\n",
    "print(len(split_pdf_content))\n"
   ]
  },
  {
   "cell_type": "code",
   "execution_count": null,
   "id": "0d81da4b",
   "metadata": {},
   "outputs": [],
   "source": [
    "print(split_pdf_content[3])"
   ]
  },
  {
   "cell_type": "code",
   "execution_count": null,
   "id": "f8f36e3b",
   "metadata": {},
   "outputs": [],
   "source": [
    "pinecone.init(\n",
    "    api_key = PINECONE_API_KEY,\n",
    "    environment = PINECONE_ENV\n",
    ")\n",
    "\n",
    "index_name = 'pdfindex'"
   ]
  },
  {
   "cell_type": "code",
   "execution_count": null,
   "id": "e0e0fb72",
   "metadata": {},
   "outputs": [],
   "source": [
    "embeddings = OpenAIEmbeddings(openai_api_key=openai.api_key)"
   ]
  },
  {
   "cell_type": "code",
   "execution_count": null,
   "id": "6085671d",
   "metadata": {},
   "outputs": [],
   "source": [
    "if index_name not in pinecone.list_indexes():\n",
    "    print(\"index does not exist\", index_name)\n",
    "\n",
    "pdf_docsearch = Pinecone.from_texts(\n",
    "    [t.page_content for t in split_pdf_content],\n",
    "    embeddings,\n",
    "    index_name = index_name\n",
    ")\n",
    "\n"
   ]
  },
  {
   "cell_type": "code",
   "execution_count": null,
   "id": "97d7838a",
   "metadata": {},
   "outputs": [],
   "source": [
    "question = \"Who is Sarah Guo?\"\n",
    "\n",
    "docs = pdf_docsearch.similarity_search(question)\n",
    "\n",
    "\n",
    "chain = load_qa_chain(llm, chain_type=\"stuff\")\n",
    "chain.run(input_documents=docs, question=question)"
   ]
  },
  {
   "cell_type": "code",
   "execution_count": null,
   "id": "3a9965c3",
   "metadata": {},
   "outputs": [],
   "source": [
    "question = \"Who is John Smith?\"\n",
    "\n",
    "docs = pdf_docsearch.similarity_search(question)\n",
    "\n",
    "\n",
    "chain = load_qa_chain(llm, chain_type=\"stuff\")\n",
    "chain.run(input_documents=docs, question=question)"
   ]
  },
  {
   "cell_type": "code",
   "execution_count": null,
   "id": "71677c0e",
   "metadata": {},
   "outputs": [],
   "source": []
  }
 ],
 "metadata": {
  "kernelspec": {
   "display_name": "Python 3 (ipykernel)",
   "language": "python",
   "name": "python3"
  },
  "language_info": {
   "codemirror_mode": {
    "name": "ipython",
    "version": 3
   },
   "file_extension": ".py",
   "mimetype": "text/x-python",
   "name": "python",
   "nbconvert_exporter": "python",
   "pygments_lexer": "ipython3",
   "version": "3.11.3"
  }
 },
 "nbformat": 4,
 "nbformat_minor": 5
}
