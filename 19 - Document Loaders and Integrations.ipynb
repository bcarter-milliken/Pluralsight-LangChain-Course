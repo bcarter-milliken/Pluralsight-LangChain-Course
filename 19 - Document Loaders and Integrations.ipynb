{
 "cells": [
  {
   "cell_type": "markdown",
   "id": "7842c0e9",
   "metadata": {},
   "source": [
    "# Document Loaders and Integrations"
   ]
  },
  {
   "cell_type": "code",
   "execution_count": 1,
   "id": "ce9fbc11",
   "metadata": {},
   "outputs": [],
   "source": [
    "import openai\n",
    "import os \n",
    "from langchain.llms import OpenAI\n",
    "from langchain.chat_models import ChatOpenAI"
   ]
  },
  {
   "cell_type": "code",
   "execution_count": 2,
   "id": "6a2d364f",
   "metadata": {},
   "outputs": [],
   "source": [
    "os.environ['OPENAI_API_KEY'] = ''"
   ]
  },
  {
   "cell_type": "code",
   "execution_count": 3,
   "id": "8d863423",
   "metadata": {},
   "outputs": [],
   "source": [
    "openai.api_key = os.getenv('OPENAI_API_KEY')"
   ]
  },
  {
   "cell_type": "code",
   "execution_count": 4,
   "id": "1e2efe28",
   "metadata": {},
   "outputs": [],
   "source": [
    "llm = ChatOpenAI()"
   ]
  },
  {
   "cell_type": "code",
   "execution_count": 5,
   "id": "3bfb464a",
   "metadata": {},
   "outputs": [],
   "source": [
    "from langchain.document_loaders.csv_loader import CSVLoader"
   ]
  },
  {
   "cell_type": "code",
   "execution_count": 6,
   "id": "9b602f5f",
   "metadata": {},
   "outputs": [],
   "source": [
    "loader = CSVLoader(file_path=\"science_fiction.txt\")\n",
    "\n",
    "data = loader.load()"
   ]
  },
  {
   "cell_type": "code",
   "execution_count": 7,
   "id": "dd8bfbd3",
   "metadata": {},
   "outputs": [
    {
     "name": "stdout",
     "output_type": "stream",
     "text": [
      "[Document(page_content='Book: Dune\\nAuthor: Frank Herbert', metadata={'source': 'science_fiction.txt', 'row': 0}), Document(page_content=\"Book: Ender's Game\\nAuthor: Orson Scott Card\", metadata={'source': 'science_fiction.txt', 'row': 1}), Document(page_content='Book: Foundation\\nAuthor: by Isaac Asimov', metadata={'source': 'science_fiction.txt', 'row': 2}), Document(page_content='Book: Neuromancer\\nAuthor: William Gibson', metadata={'source': 'science_fiction.txt', 'row': 3}), Document(page_content='Book: The Left Hand of Darkness\\nAuthor: Ursula K. Le Guin', metadata={'source': 'science_fiction.txt', 'row': 4}), Document(page_content='Book: Snow Crash\\nAuthor: Neal Stephenson', metadata={'source': 'science_fiction.txt', 'row': 5}), Document(page_content='Book: Hyperion\\nAuthor: Dan Simmons', metadata={'source': 'science_fiction.txt', 'row': 6}), Document(page_content='Book: The Stars My Destination\\nAuthor: Alfred Bester', metadata={'source': 'science_fiction.txt', 'row': 7}), Document(page_content='Book: Ringworld\\nAuthor: Larry Niven', metadata={'source': 'science_fiction.txt', 'row': 8}), Document(page_content='Book: Red Mars\\nAuthor: Kim Stanley Robinson', metadata={'source': 'science_fiction.txt', 'row': 9}), Document(page_content='Book: The Three-Body Problem\\nAuthor: Liu Cixin', metadata={'source': 'science_fiction.txt', 'row': 10}), Document(page_content='Book: Starship Troopers\\nAuthor: Robert A. Heinlein', metadata={'source': 'science_fiction.txt', 'row': 11}), Document(page_content='Book: The Moon is a Harsh Mistress\\nAuthor: Robert A. Heinlein', metadata={'source': 'science_fiction.txt', 'row': 12}), Document(page_content='Book: The Windup Girl\\nAuthor: Paolo Bacigalupi', metadata={'source': 'science_fiction.txt', 'row': 13}), Document(page_content='Book: Altered Carbon\\nAuthor: Richard K. Morgan', metadata={'source': 'science_fiction.txt', 'row': 14}), Document(page_content='Book: The Space Trilogy\\nAuthor: C.S. Lewis', metadata={'source': 'science_fiction.txt', 'row': 15}), Document(page_content='Book: The Forever War\\nAuthor: Joe Haldeman', metadata={'source': 'science_fiction.txt', 'row': 16}), Document(page_content=\"Book: Old Man's War\\nAuthor: John Scalzi\", metadata={'source': 'science_fiction.txt', 'row': 17}), Document(page_content='Book: A Canticle for Leibowitz\\nAuthor: Walter M. Miller Jr.', metadata={'source': 'science_fiction.txt', 'row': 18}), Document(page_content='Book: Blindsight\\nAuthor: Peter Watts', metadata={'source': 'science_fiction.txt', 'row': 19})]\n"
     ]
    }
   ],
   "source": [
    "print(data)"
   ]
  },
  {
   "cell_type": "code",
   "execution_count": 8,
   "id": "5e6abc16",
   "metadata": {},
   "outputs": [
    {
     "name": "stdout",
     "output_type": "stream",
     "text": [
      "page_content='Book: Dune\\nAuthor: Frank Herbert' metadata={'source': 'science_fiction.txt', 'row': 0}\n"
     ]
    }
   ],
   "source": [
    "print(data[0])"
   ]
  },
  {
   "cell_type": "code",
   "execution_count": 9,
   "id": "7f199fef",
   "metadata": {},
   "outputs": [
    {
     "name": "stdout",
     "output_type": "stream",
     "text": [
      "page_content=\"Book: Ender's Game\\nAuthor: Orson Scott Card\" metadata={'source': 'science_fiction.txt', 'row': 1}\n"
     ]
    }
   ],
   "source": [
    "print(data[1])"
   ]
  },
  {
   "cell_type": "code",
   "execution_count": 10,
   "id": "711a5d00",
   "metadata": {},
   "outputs": [
    {
     "name": "stdout",
     "output_type": "stream",
     "text": [
      "Book: Dune\n",
      "Author: Frank Herbert\n"
     ]
    }
   ],
   "source": [
    "print(data[0].page_content)"
   ]
  },
  {
   "cell_type": "code",
   "execution_count": null,
   "id": "ed457598",
   "metadata": {},
   "outputs": [],
   "source": [
    "# pip install unstructured"
   ]
  },
  {
   "cell_type": "code",
   "execution_count": 11,
   "id": "e20fe080",
   "metadata": {},
   "outputs": [],
   "source": [
    "from langchain.document_loaders import UnstructuredHTMLLoader"
   ]
  },
  {
   "cell_type": "code",
   "execution_count": 12,
   "id": "bdeb3245",
   "metadata": {
    "scrolled": true
   },
   "outputs": [],
   "source": [
    "loader = UnstructuredHTMLLoader(\"simple.html\")\n",
    "\n",
    "data = loader.load()"
   ]
  },
  {
   "cell_type": "code",
   "execution_count": 13,
   "id": "979ffa83",
   "metadata": {},
   "outputs": [
    {
     "data": {
      "text/plain": [
       "[Document(page_content='About This Page\\n\\nThis is a basic HTML page created by ChatGPT. You can customize it further to suit your needs.', metadata={'source': 'simple.html'})]"
      ]
     },
     "execution_count": 13,
     "metadata": {},
     "output_type": "execute_result"
    }
   ],
   "source": [
    "data"
   ]
  },
  {
   "cell_type": "code",
   "execution_count": 14,
   "id": "288fa23d",
   "metadata": {},
   "outputs": [
    {
     "name": "stdout",
     "output_type": "stream",
     "text": [
      "About This Page\n",
      "\n",
      "This is a basic HTML page created by ChatGPT. You can customize it further to suit your needs.\n"
     ]
    }
   ],
   "source": [
    "print(data[0].page_content)"
   ]
  },
  {
   "cell_type": "code",
   "execution_count": null,
   "id": "9cb4bb56",
   "metadata": {},
   "outputs": [],
   "source": [
    "# pip install pypdf"
   ]
  },
  {
   "cell_type": "code",
   "execution_count": 18,
   "id": "fa8bf7ad",
   "metadata": {},
   "outputs": [],
   "source": [
    "from langchain.document_loaders import PyPDFLoader"
   ]
  },
  {
   "cell_type": "code",
   "execution_count": 19,
   "id": "4080e5f4",
   "metadata": {},
   "outputs": [],
   "source": [
    "loader = PyPDFLoader(\"simple.pdf\")\n",
    "\n",
    "data = loader.load()"
   ]
  },
  {
   "cell_type": "code",
   "execution_count": 20,
   "id": "2a48f501",
   "metadata": {},
   "outputs": [
    {
     "data": {
      "text/plain": [
       "[Document(page_content=' A Simple PDF File \\n This is a small demonstration .pdf file - \\n just for use in the Virtual Mechanics tutorials. More text. And more \\n text. And more text. And more text. And more text. \\n And more text. And more text. And more text. And more text. And more \\n text. And more text. Boring, zzzzz. And more text. And more text. And \\n more text. And more text. And more text. And more text. And more text. \\n And more text. And more text. \\n And more text. And more text. And more text. And more text. And more \\n text. And more text. And more text. Even more. Continued on page 2 ...', metadata={'source': 'simple.pdf', 'page': 0}),\n",
       " Document(page_content=' Simple PDF File 2 \\n ...continued from page 1. Yet more text. And more text. And more text. \\n And more text. And more text. And more text. And more text. And more \\n text. Oh, how boring typing this stuff. But not as boring as watching \\n paint dry. And more text. And more text. And more text. And more text. \\n Boring.  More, a little more text. The end, and just as well. ', metadata={'source': 'simple.pdf', 'page': 1})]"
      ]
     },
     "execution_count": 20,
     "metadata": {},
     "output_type": "execute_result"
    }
   ],
   "source": [
    "data"
   ]
  },
  {
   "cell_type": "code",
   "execution_count": 21,
   "id": "85401f81",
   "metadata": {},
   "outputs": [
    {
     "name": "stdout",
     "output_type": "stream",
     "text": [
      " A Simple PDF File \n",
      " This is a small demonstration .pdf file - \n",
      " just for use in the Virtual Mechanics tutorials. More text. And more \n",
      " text. And more text. And more text. And more text. \n",
      " And more text. And more text. And more text. And more text. And more \n",
      " text. And more text. Boring, zzzzz. And more text. And more text. And \n",
      " more text. And more text. And more text. And more text. And more text. \n",
      " And more text. And more text. \n",
      " And more text. And more text. And more text. And more text. And more \n",
      " text. And more text. And more text. Even more. Continued on page 2 ...\n"
     ]
    }
   ],
   "source": [
    "print(data[0].page_content)"
   ]
  },
  {
   "cell_type": "code",
   "execution_count": null,
   "id": "3cf9cfec",
   "metadata": {},
   "outputs": [],
   "source": [
    "# pip install pytube"
   ]
  },
  {
   "cell_type": "code",
   "execution_count": null,
   "id": "37e072ec",
   "metadata": {},
   "outputs": [],
   "source": [
    "# pip install youtube-transcript-api"
   ]
  },
  {
   "cell_type": "code",
   "execution_count": 23,
   "id": "b5f970fd",
   "metadata": {},
   "outputs": [],
   "source": [
    "from langchain.document_loaders import YoutubeLoader"
   ]
  },
  {
   "cell_type": "code",
   "execution_count": 24,
   "id": "200b0e3b",
   "metadata": {},
   "outputs": [],
   "source": [
    "loader = YoutubeLoader.from_youtube_url(\n",
    "    \"https://www.youtube.com/watch?v=1LR6NPpFxw4\", add_video_info=True\n",
    ")\n",
    "\n",
    "data = loader.load()"
   ]
  },
  {
   "cell_type": "code",
   "execution_count": 25,
   "id": "a6cd9d24",
   "metadata": {},
   "outputs": [
    {
     "name": "stdout",
     "output_type": "stream",
     "text": [
      "sixty minutes rewind captain hopper is a whiz at mathematics some would say a genius one of that small band of brothers and sisters who ushered in the computer revolution in World War two at age 37 she left her professor's job at Vassar to serve as a lieutenant in the Navy Reserve she was sent to Harvard to help program the very first computer it had the unglamorous name of mark 1 and as far as we've progressed since this vacuum tube monster captain hopper says we ain't seen nothing yet you talk a lot about the computer revolution I thought we're in it and it's over no we're only at the beginning we've been through the preliminaries well what's it gonna be well we've got the Model T just the Model T that's where we are now she's up many mornings before 5:00 for the ride to Washington's National Airport 200 days a year she lectures two computer scientists at military bases she's also in demand on college campuses and among businessmen the Navy's proud to show off one of theirs who was in at the beginning she is more than just a superb mathematical talent it was Grace Hopper who helped teach the machines a language stopped them from speaking and undecipherable numbers enabled them to speak in English or French or German or whatever language you choose the first computer Grace Hopper worked on could do three calculations a second today's computers can do thousands a second millions a second sped along by tiny silicon chips educated grains of sand and billions and trillions of calculations a second are not too far off how do you explain that kind of speed they started talking about circuits that acted in nanoseconds billionths of a second I didn't know what a billion was I don't think most of those men downtown know what a billion is either and if you don't know what a billion is how on earth you know what a billionth is I fussed in fumed finally one morning in total desperation I called over to the engineering building and I said please cut off a nanosecond and send it over to me and I brought you some today now what I wanted when I asked for a nanosecond was I wanted a piece of work which would represent the maximum distance that electricity could travel in a billionth of a second now of course it wouldn't really be through wire be out in space the velocity of light so if we start with a velocity of light and use your friendly computer you'll discover that a nanosecond is 11.8 inches long the maximum limiting distance that electricity can travel in a billionth of a second finally the end of about a week I called back and said I need something to compare this to could I please have a microsecond I've only got one microsecond so I can't give you each one here's a microsecond 984 feet race hopper is at the center of a revolution that is changing life as we know it it tells the Navy how many tons of baked beans it has on hand it targets its missiles a revolution that can free human hands and the console at least on paper human problems in seconds where it used to take years at 76 she is in the chain of command that runs from the commander in chief to the Secretary of Defense to the Secretary of the Navy across to the lone woman whose picture is the only one in black and white because she's still looking for a good color photo of herself if you got into private industry probably a very rich person I've already received the highest award I'll ever receive no matter how long I live no matter how many more jobs that may have and that has been the privilege and the responsibility of serving very proudly in the United States Navy regret it was the Navy not the army or the Air Force well it had to be the Navy because my great-grandfather was a Rear Admiral besides which I like blue\n"
     ]
    }
   ],
   "source": [
    "print(data[0].page_content)"
   ]
  },
  {
   "cell_type": "code",
   "execution_count": 26,
   "id": "240eea7c",
   "metadata": {},
   "outputs": [],
   "source": [
    "from langchain.prompts import ChatPromptTemplate, HumanMessagePromptTemplate"
   ]
  },
  {
   "cell_type": "code",
   "execution_count": 27,
   "id": "1ca4d63b",
   "metadata": {},
   "outputs": [],
   "source": [
    "human_prompt = HumanMessagePromptTemplate.from_template(\"Summarize the following: \\n{youtube_transcript}\")"
   ]
  },
  {
   "cell_type": "code",
   "execution_count": 28,
   "id": "e114472f",
   "metadata": {},
   "outputs": [],
   "source": [
    "chat_prompt = ChatPromptTemplate.from_messages([human_prompt])"
   ]
  },
  {
   "cell_type": "code",
   "execution_count": 29,
   "id": "d3a6c49f",
   "metadata": {},
   "outputs": [],
   "source": [
    "llm=ChatOpenAI()"
   ]
  },
  {
   "cell_type": "code",
   "execution_count": 30,
   "id": "f46030ed",
   "metadata": {},
   "outputs": [],
   "source": [
    "result = llm(chat_prompt.format_prompt(youtube_transcript=data[0].page_content).to_messages())"
   ]
  },
  {
   "cell_type": "code",
   "execution_count": 31,
   "id": "f0b010cc",
   "metadata": {},
   "outputs": [
    {
     "name": "stdout",
     "output_type": "stream",
     "text": [
      "The article discusses the accomplishments and contributions of Grace Hopper, a mathematician and computer scientist who played a major role in the computer revolution. Hopper left her job as a professor at Vassar to join the Navy Reserve, where she helped program the first computer, called the Mark 1. She believes that the computer revolution is only in its beginning stages and that there is much more progress to be made. Hopper is highly respected in the field and is sought after for lectures and presentations. She is known for teaching computers to understand human language and for her work on increasing computational speed. The article also mentions Hopper's role in the Navy and her pride in serving in that branch.\n"
     ]
    }
   ],
   "source": [
    "print(result.content)"
   ]
  },
  {
   "cell_type": "code",
   "execution_count": null,
   "id": "3054a1b8",
   "metadata": {},
   "outputs": [],
   "source": []
  }
 ],
 "metadata": {
  "kernelspec": {
   "display_name": "Python 3 (ipykernel)",
   "language": "python",
   "name": "python3"
  },
  "language_info": {
   "codemirror_mode": {
    "name": "ipython",
    "version": 3
   },
   "file_extension": ".py",
   "mimetype": "text/x-python",
   "name": "python",
   "nbconvert_exporter": "python",
   "pygments_lexer": "ipython3",
   "version": "3.11.3"
  }
 },
 "nbformat": 4,
 "nbformat_minor": 5
}
