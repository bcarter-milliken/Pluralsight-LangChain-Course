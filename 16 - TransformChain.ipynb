{
 "cells": [
  {
   "cell_type": "markdown",
   "id": "95942bf4",
   "metadata": {},
   "source": [
    "# TransformChain"
   ]
  },
  {
   "cell_type": "code",
   "execution_count": 1,
   "id": "8b652a85",
   "metadata": {},
   "outputs": [],
   "source": [
    "import openai\n",
    "import os \n",
    "from langchain.llms import OpenAI\n",
    "from langchain.chat_models import ChatOpenAI\n",
    "from langchain.prompts.chat import ChatPromptTemplate, HumanMessagePromptTemplate\n",
    "from langchain.schema import HumanMessage\n",
    "from langchain.chains import TransformChain, LLMChain, SimpleSequentialChain\n",
    "from langchain.prompts import PromptTemplate\n",
    "import re"
   ]
  },
  {
   "cell_type": "code",
   "execution_count": 2,
   "id": "fb74f07d",
   "metadata": {},
   "outputs": [],
   "source": [
    "os.environ['OPENAI_API_KEY'] = ''"
   ]
  },
  {
   "cell_type": "code",
   "execution_count": 3,
   "id": "5bbe264c",
   "metadata": {},
   "outputs": [],
   "source": [
    "openai.api_key = os.getenv('OPENAI_API_KEY')"
   ]
  },
  {
   "cell_type": "code",
   "execution_count": 4,
   "id": "9dc999f7",
   "metadata": {},
   "outputs": [],
   "source": [
    "llm = ChatOpenAI()"
   ]
  },
  {
   "cell_type": "code",
   "execution_count": 5,
   "id": "c1eed9e7",
   "metadata": {},
   "outputs": [],
   "source": [
    "with open(\"nda.txt\", 'r', encoding='utf-8') as file:\n",
    "    nda = file.read()\n"
   ]
  },
  {
   "cell_type": "code",
   "execution_count": 6,
   "id": "d9d7df51",
   "metadata": {},
   "outputs": [
    {
     "name": "stdout",
     "output_type": "stream",
     "text": [
      "﻿NON-DISCLOSURE AGREEMENT (NDA)\n",
      "\n",
      "This Agreement is made on September 14, 2023, between ABC Corp., located at 123 Main St., New York, NY, hereinafter referred to as the \"Disclosing Party\", and XYZ Ltd., located at 456 Elm St., Los Angeles, CA, hereinafter referred to as the \"Receiving Party\".\n",
      "\n",
      "Purpose: The Disclosing Party desires to disclose certain confidential information to the Receiving Party for evaluation for a potential business relationship.\n",
      "\n",
      "Definition of Confidential Information: For purposes of this Agreement, \"Confidential Information\" shall include all information or material that has or could have commercial value or other utility in the business in which the Disclosing Party is engaged.\n",
      "\n",
      "Obligations of Receiving Party: The Receiving Party shall hold and maintain the Confidential Information in strictest confidence for the sole and exclusive benefit of the Disclosing Party.\n",
      "\n",
      "Exclusions from Confidential Information: Receiving Party's obligations under this Agreement do not extend to information that is: (a) publicly known at the time of disclosure or subsequently becomes publicly known through no fault of the Receiving Party; (b) discovered or created by the Receiving Party before disclosure by Disclosing Party; (c) learned by the Receiving Party through legitimate means other than from the Disclosing Party or Disclosing Party's representatives; or (d) is disclosed by Receiving Party with Disclosing Party's prior written approval.\n",
      "\n",
      "Duration: The obligations of the Receiving Party shall be binding for two years from the date of disclosure of the Confidential Information.\n",
      "\n",
      "Return or Destruction of Confidential Information: Upon the Disclosing Party's request, the Receiving Party shall promptly return or destroy all copies of Confidential Information.\n",
      "\n",
      "No License: Nothing contained herein shall be construed as granting, either expressly or by implication, any license under any patent or trademark of Disclosing Party.\n",
      "\n",
      "Governing Law: This Agreement shall be governed by and construed in accordance with the laws of New York, USA.\n",
      "\n",
      "Entire Agreement: This Agreement contains the entire agreement between the parties and supersedes all prior and contemporaneous understandings, agreements, representations, and warranties, both written and oral, with respect to such subject matter.\n",
      "\n",
      "Both parties represent that they have the authority to enter into this Agreement.\n",
      "\n"
     ]
    }
   ],
   "source": [
    "print(nda)"
   ]
  },
  {
   "cell_type": "code",
   "execution_count": 7,
   "id": "dc6ba68d",
   "metadata": {},
   "outputs": [
    {
     "name": "stdout",
     "output_type": "stream",
     "text": [
      "Receiving Party's obligations under this Agreement do not extend to information that is: (a) publicly known at the time of disclosure or subsequently becomes publicly known through no fault of the Receiving Party; (b) discovered or created by the Receiving Party before disclosure by Disclosing Party; (c) learned by the Receiving Party through legitimate means other than from the Disclosing Party or Disclosing Party's representatives; or (d) is disclosed by Receiving Party with Disclosing Party's prior written approval.\n"
     ]
    }
   ],
   "source": [
    "match = re.search(r\"Exclusions from Confidential Information:(.*?)(?:\\n\\n|$)\", nda, re.DOTALL)\n",
    "section = match.group(1).strip()\n",
    "print(section)"
   ]
  },
  {
   "cell_type": "code",
   "execution_count": 10,
   "id": "048b8f1a",
   "metadata": {},
   "outputs": [],
   "source": [
    "def transform_func(inputs: dict) -> dict:\n",
    "    text = inputs[\"text\"]\n",
    "    match = re.search(r\"Exclusions from Confidential Information:(.*?)(?:\\n\\n|$)\", text, re.DOTALL)\n",
    "    section = match.group(1).strip()\n",
    "    return {\"output_text\": section}\n",
    "\n",
    "transform_chain = TransformChain(\n",
    "    input_variables=[\"text\"], output_variables=[\"output_text\"], transform=transform_func\n",
    ")"
   ]
  },
  {
   "cell_type": "code",
   "execution_count": 11,
   "id": "e99f9f6d",
   "metadata": {},
   "outputs": [],
   "source": [
    "template = \"\"\"Summarize this text:\n",
    "\n",
    "{output_text}\n",
    "\n",
    "Summary:\"\"\"\n",
    "prompt = PromptTemplate(input_variables=[\"output_text\"], template=template)\n",
    "llm_chain = LLMChain(llm=OpenAI(), prompt=prompt)"
   ]
  },
  {
   "cell_type": "code",
   "execution_count": 12,
   "id": "2c1058b5",
   "metadata": {},
   "outputs": [],
   "source": [
    "sequential_chain = SimpleSequentialChain(chains=[transform_chain, llm_chain],verbose=True)"
   ]
  },
  {
   "cell_type": "code",
   "execution_count": 13,
   "id": "cfb7ce6e",
   "metadata": {},
   "outputs": [
    {
     "name": "stdout",
     "output_type": "stream",
     "text": [
      "\n",
      "\n",
      "\u001b[1m> Entering new SimpleSequentialChain chain...\u001b[0m\n",
      "\u001b[36;1m\u001b[1;3mReceiving Party's obligations under this Agreement do not extend to information that is: (a) publicly known at the time of disclosure or subsequently becomes publicly known through no fault of the Receiving Party; (b) discovered or created by the Receiving Party before disclosure by Disclosing Party; (c) learned by the Receiving Party through legitimate means other than from the Disclosing Party or Disclosing Party's representatives; or (d) is disclosed by Receiving Party with Disclosing Party's prior written approval.\u001b[0m\n",
      "\u001b[33;1m\u001b[1;3m The Receiving Party is not obligated to keep information confidential that is already publicly known, was created or discovered before disclosure, was learned from a legitimate source, or was approved by the Disclosing Party to be disclosed.\u001b[0m\n",
      "\n",
      "\u001b[1m> Finished chain.\u001b[0m\n"
     ]
    },
    {
     "data": {
      "text/plain": [
       "' The Receiving Party is not obligated to keep information confidential that is already publicly known, was created or discovered before disclosure, was learned from a legitimate source, or was approved by the Disclosing Party to be disclosed.'"
      ]
     },
     "execution_count": 13,
     "metadata": {},
     "output_type": "execute_result"
    }
   ],
   "source": [
    "sequential_chain.run(nda)"
   ]
  },
  {
   "cell_type": "code",
   "execution_count": null,
   "id": "91a93c34",
   "metadata": {},
   "outputs": [],
   "source": []
  }
 ],
 "metadata": {
  "kernelspec": {
   "display_name": "Python 3 (ipykernel)",
   "language": "python",
   "name": "python3"
  },
  "language_info": {
   "codemirror_mode": {
    "name": "ipython",
    "version": 3
   },
   "file_extension": ".py",
   "mimetype": "text/x-python",
   "name": "python",
   "nbconvert_exporter": "python",
   "pygments_lexer": "ipython3",
   "version": "3.11.3"
  }
 },
 "nbformat": 4,
 "nbformat_minor": 5
}
